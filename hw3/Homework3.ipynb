{
 "cells": [
  {
   "cell_type": "code",
   "execution_count": 7,
   "metadata": {},
   "outputs": [],
   "source": [
    "try:\n",
    "    file = open('cities.txt', 'r')\n",
    "    file_out = open('filtered_cities.txt', 'w')\n",
    "    inp = int(input('Введите население городов, которое надо удалить'))\n",
    "\n",
    "    filtred_cities = []\n",
    "\n",
    "    for line in file:\n",
    "        if (int(line.split(':')[1]) > inp):\n",
    "            filtred_cities.append(line)\n",
    "        \n",
    "    file_out.write(\"\".join(sorted(filtred_cities)))\n",
    "    file.close()\n",
    "    file_out.close()\n",
    "except:\n",
    "    print('Файла не существует')\n",
    "    "
   ]
  },
  {
   "cell_type": "code",
   "execution_count": 23,
   "metadata": {},
   "outputs": [],
   "source": [
    "import json\n",
    "try:\n",
    "    file = open('input.txt', 'r')\n",
    "    output_file2 = open('output.txt', 'w')\n",
    "\n",
    "    content = file.read()\n",
    "\n",
    "    json_object = json.loads(content)\n",
    "\n",
    "    for stores in json_object:\n",
    "        sum = 0\n",
    "        for item in json_object[stores]:\n",
    "            sum += json_object[stores][item]\n",
    "        output_file2.write(f'{stores} продал товаров на {sum} \\n')\n",
    "    file.close()\n",
    "    output_file2.close()\n",
    "except:\n",
    "    print('Файла не существует')\n"
   ]
  },
  {
   "cell_type": "code",
   "execution_count": 26,
   "metadata": {},
   "outputs": [
    {
     "name": "stdout",
     "output_type": "stream",
     "text": [
      "Maxim\n",
      "Daria\n",
      "David\n"
     ]
    }
   ],
   "source": [
    "try:\n",
    "    file3 = open('input.txt', 'r')\n",
    "    inp = input('Введите название курса')\n",
    "    \n",
    "    for line in file3:\n",
    "        test = line.split(':')\n",
    "        if inp in test[1]:\n",
    "            print(test[0].strip())\n",
    "    \n",
    "    file3.close()\n",
    "except:\n",
    "    print('Файла не существует')\n"
   ]
  }
 ],
 "metadata": {
  "kernelspec": {
   "display_name": "Python 3",
   "language": "python",
   "name": "python3"
  },
  "language_info": {
   "codemirror_mode": {
    "name": "ipython",
    "version": 3
   },
   "file_extension": ".py",
   "mimetype": "text/x-python",
   "name": "python",
   "nbconvert_exporter": "python",
   "pygments_lexer": "ipython3",
   "version": "3.10.13"
  }
 },
 "nbformat": 4,
 "nbformat_minor": 2
}
