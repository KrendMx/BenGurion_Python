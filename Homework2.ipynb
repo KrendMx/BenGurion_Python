{
 "cells": [
  {
   "cell_type": "code",
   "execution_count": 7,
   "metadata": {},
   "outputs": [],
   "source": [
    "from functools import reduce\n",
    "\n",
    "output = open('output.txt', 'w')\n",
    "marks = []\n",
    "names = []\n",
    "\n",
    "try:\n",
    "    file = open('test.txt', 'r')\n",
    "    for line in file:\n",
    "        names.append(line.split(',')[0])\n",
    "        marks.append(sum([int(x) for x in line.split(',')[1].strip().split('\\n')[0]]) / len(line.split(',')[1].strip().split('\\n')[0]))\n",
    "\n",
    "    marks_avg = sum(marks)/len(marks)\n",
    "\n",
    "    for i in range(len(marks)):\n",
    "        if (marks[i] > marks_avg):\n",
    "            output.write(f'{names[i]} {marks[i]}')\n",
    "    file.close()\n",
    "\n",
    "except:\n",
    "    print(\"File doesn't exist\")\n",
    "\n",
    "\n",
    "output.close()\n"
   ]
  },
  {
   "cell_type": "code",
   "execution_count": 35,
   "metadata": {},
   "outputs": [
    {
     "name": "stdout",
     "output_type": "stream",
     "text": [
      "[]\n",
      "['String', '1;']\n",
      "['String2;']\n",
      "['1AaaaaA1;']\n"
     ]
    }
   ],
   "source": [
    "try:\n",
    "    file_2 = open('input.txt', 'r')\n",
    "    input_user = input('Введите символы для удаления') + ';'\n",
    "\n",
    "    output = open('output.txt', 'w')\n",
    "\n",
    "    for stroke in file_2:\n",
    "        stroke = stroke.split('\\n')[0]\n",
    "        stroke\n",
    "\n",
    "    file_2.close()\n",
    "except:\n",
    "    print(\"File for task 2 doesn't exist\")\n",
    "output.close()\n"
   ]
  },
  {
   "cell_type": "code",
   "execution_count": 28,
   "metadata": {},
   "outputs": [],
   "source": [
    "output = open('output.txt', 'w')\n",
    "try:\n",
    "    file_1 = open('input1.txt', 'r')\n",
    "    file_2 = open('input2.txt', 'r')\n",
    "\n",
    "    a = list(map(lambda x: x.split('\\n')[0], file_2.readlines())) + list(map(lambda x: x.split('\\n')[0], file_1.readlines()))\n",
    "    for item in sorted(a):\n",
    "        output.write(f'{item}\\n')\n",
    "except:\n",
    "    print(\"Files for task 3 doesn't exist\")\n",
    "\n",
    "output.close()\n"
   ]
  }
 ],
 "metadata": {
  "kernelspec": {
   "display_name": "Python 3",
   "language": "python",
   "name": "python3"
  },
  "language_info": {
   "codemirror_mode": {
    "name": "ipython",
    "version": 3
   },
   "file_extension": ".py",
   "mimetype": "text/x-python",
   "name": "python",
   "nbconvert_exporter": "python",
   "pygments_lexer": "ipython3",
   "version": "3.12.3"
  }
 },
 "nbformat": 4,
 "nbformat_minor": 2
}
