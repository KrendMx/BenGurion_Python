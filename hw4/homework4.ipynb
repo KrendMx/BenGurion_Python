{
 "cells": [
  {
   "cell_type": "code",
   "execution_count": 3,
   "metadata": {},
   "outputs": [
    {
     "name": "stdout",
     "output_type": "stream",
     "text": [
      "Наибольший делитель 15 и 25 это 5\n"
     ]
    }
   ],
   "source": [
    "def gcd(a, b):\n",
    "    if b == 0:\n",
    "        return a\n",
    "    else:\n",
    "        return gcd(b, a % b)\n",
    "\n",
    "try:\n",
    "    num1 = int(input(\"Введите первое число: \"))\n",
    "    num2 = int(input(\"Введите второе число: \"))\n",
    "\n",
    "    print(f\"Наибольший делитель {num1} и {num2} это {gcd(num1, num2)}\")\n",
    "except:\n",
    "    print('Введите корректные данные')\n"
   ]
  },
  {
   "cell_type": "code",
   "execution_count": 4,
   "metadata": {},
   "outputs": [
    {
     "name": "stdout",
     "output_type": "stream",
     "text": [
      "Количество способов подняться на 12 это 233\n"
     ]
    }
   ],
   "source": [
    "def count_ways(n):\n",
    "    if n == 0 or n == 1:\n",
    "        return 1\n",
    "    else:\n",
    "        return count_ways(n-1) + count_ways(n-2)\n",
    "\n",
    "try:\n",
    "    num_steps = int(input(\"Введите количество шагов: \"))\n",
    "\n",
    "    print(f\"Количество способов подняться на {num_steps} это {count_ways(num_steps)}\")\n",
    "except:\n",
    "    print('Введите корректные данные')"
   ]
  }
 ],
 "metadata": {
  "kernelspec": {
   "display_name": "Python 3",
   "language": "python",
   "name": "python3"
  },
  "language_info": {
   "codemirror_mode": {
    "name": "ipython",
    "version": 3
   },
   "file_extension": ".py",
   "mimetype": "text/x-python",
   "name": "python",
   "nbconvert_exporter": "python",
   "pygments_lexer": "ipython3",
   "version": "3.12.4"
  }
 },
 "nbformat": 4,
 "nbformat_minor": 2
}
