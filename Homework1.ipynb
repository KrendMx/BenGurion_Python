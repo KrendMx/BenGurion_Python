{
 "cells": [
  {
   "cell_type": "markdown",
   "metadata": {},
   "source": [
    "<h5>Задача 1</h5>"
   ]
  },
  {
   "cell_type": "code",
   "execution_count": 54,
   "metadata": {},
   "outputs": [
    {
     "name": "stdout",
     "output_type": "stream",
     "text": [
      "Заданная высота треугольника: 4 строк\n",
      "    \n",
      "   * \n",
      "  * * \n",
      " * * * \n",
      "* * * * \n"
     ]
    }
   ],
   "source": [
    "var_task1 = input('Введите высоту треугольника числом')\n",
    "\n",
    "while True:\n",
    "    try:\n",
    "        var_task1 = int(var_task1)\n",
    "        break\n",
    "    except:\n",
    "        var_task1 = input('Введите именно число, а не другой набор символов')\n",
    "\n",
    "print(f'Заданная высота треугольника: {var_task1} строк')\n",
    "\n",
    "for i in range(var_task1 + 1):\n",
    "    print(' ' * ((var_task1 - i)) + '* ' * i)"
   ]
  },
  {
   "cell_type": "markdown",
   "metadata": {},
   "source": [
    "<h5>Задача 2</h5>\n"
   ]
  },
  {
   "cell_type": "code",
   "execution_count": 33,
   "metadata": {},
   "outputs": [
    {
     "name": "stdout",
     "output_type": "stream",
     "text": [
      "Заданно число: 505\n",
      "5\n",
      "Введено число:пятьсот пять\n"
     ]
    }
   ],
   "source": [
    "tens = {\n",
    "    1: 'десять',\n",
    "    2: 'двадцать',\n",
    "    3: 'тридцать',\n",
    "    4: 'сорок',\n",
    "    5: 'пятьдесят',\n",
    "    6: 'шестьдесят',\n",
    "    7: 'семьдесят',\n",
    "    8: 'восемьдесят',\n",
    "    9: 'девяносто',\n",
    "    11: 'одинадцать',\n",
    "    12: 'двенадцать',\n",
    "    13: 'тринадцать',\n",
    "    14: 'четырнадцать',\n",
    "    15: 'пятнадцать',\n",
    "    16: 'шестнадцать',\n",
    "    17: 'семнадцать',\n",
    "    18: 'восемнадцать',\n",
    "    19: 'девятнадцать',\n",
    "    0: ''\n",
    "}\n",
    "\n",
    "ones = {\n",
    "    1:'один',\n",
    "    2:'два',\n",
    "    3:'три',\n",
    "    4:'четыре',\n",
    "    5:'пять',\n",
    "    6:'шесть',\n",
    "    7:'семь',\n",
    "    8:'восемь',\n",
    "    9:'девять',\n",
    "}\n",
    "\n",
    "hundreds = {\n",
    "    1: 'сто',\n",
    "    2: 'двести',\n",
    "    3: 'триста',\n",
    "    4: 'четыреста',\n",
    "    5: 'пятьсот',\n",
    "    6: 'шестьсот',\n",
    "    7: 'семьсот',\n",
    "    8: 'восемьсот',\n",
    "    9: 'девятьсот',\n",
    "}\n",
    "\n",
    "final_string = ''\n",
    "\n",
    "var_task2 = input('Введите число')\n",
    "\n",
    "while True:\n",
    "    try:\n",
    "        var_task2 = int(var_task2)\n",
    "        break\n",
    "    except:\n",
    "        var_task2 = input('Введите именно число, а не другой набор символов')\n",
    "\n",
    "print(f'Заданно число: {var_task2}')\n",
    "\n",
    "if (var_task2 // 100 > 0):\n",
    "    final_string += hundreds[var_task2 // 100]\n",
    "\n",
    "if (var_task2 % 100 > 0):\n",
    "    if (var_task2 % 100 > 10 and var_task2 % 100 < 20):\n",
    "        final_string += ' ' + tens[var_task2 % 100]\n",
    "    else:\n",
    "        print((var_task2 % 100) % 10)\n",
    "        final_string += (' ' + tens[(var_task2 % 100) // 10] + ' ' + ones[(var_task2 % 100) % 10])\n",
    "\n",
    "print(f'Введено число:{' '.join(final_string.split('  '))}')\n"
   ]
  },
  {
   "cell_type": "markdown",
   "metadata": {},
   "source": [
    "<h5>Задача 3</h5>\n"
   ]
  },
  {
   "cell_type": "code",
   "execution_count": 15,
   "metadata": {},
   "outputs": [
    {
     "name": "stdout",
     "output_type": "stream",
     "text": [
      "Заданная строка: 1234\n",
      "Сумма после вычислений: 1\n"
     ]
    }
   ],
   "source": [
    "var_task3 = input('Введите число')\n",
    "\n",
    "while True:\n",
    "    try:\n",
    "        int(var_task3)\n",
    "        break\n",
    "    except:\n",
    "        var_task3 = input('Введите именно число, а не другой набор символов')\n",
    "\n",
    "print(f'Заданная строка: {var_task3}')\n",
    "\n",
    "while len(var_task3) > 1:\n",
    "    var_task3 = str(sum([int(x) for x in var_task3]))\n",
    "\n",
    "\n",
    "print(f'Сумма после вычислений: {var_task3}')"
   ]
  }
 ],
 "metadata": {
  "kernelspec": {
   "display_name": "Python 3",
   "language": "python",
   "name": "python3"
  },
  "language_info": {
   "codemirror_mode": {
    "name": "ipython",
    "version": 3
   },
   "file_extension": ".py",
   "mimetype": "text/x-python",
   "name": "python",
   "nbconvert_exporter": "python",
   "pygments_lexer": "ipython3",
   "version": "3.12.3"
  }
 },
 "nbformat": 4,
 "nbformat_minor": 2
}
